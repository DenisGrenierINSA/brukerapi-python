{
 "cells": [
  {
   "cell_type": "markdown",
   "source": [
    "## Split FG_ISA dimension of 2dseq data set into multiple data sets\n",
    "\n",
    "This example demonstrates the **split functionality** implemented on the 2dseq dataset. It allows to **divide a single \n",
    "2dseq data set into several data sets, each containing one subset of data and metadata.** All the resulting data sets,\n",
    " are \n",
    "consistent, they can be written do drive and/or further worked with, for instance, converted to NIfTI.\n",
    "\n",
    "Data for this example will be available soon. "
   ],
   "metadata": {
    "collapsed": false,
    "pycharm": {
     "name": "#%% md\n"
    }
   }
  },
  {
   "cell_type": "markdown",
   "source": [
    "## Setup\n"
   ],
   "metadata": {
    "collapsed": false
   }
  },
  {
   "cell_type": "code",
   "execution_count": 1,
   "metadata": {
    "collapsed": true,
    "pycharm": {
     "is_executing": false
    }
   },
   "outputs": [],
   "source": [
    "from brukerapi.dataset import Dataset\n",
    "\n",
    "dataset = Dataset('path_to_data')\n"
   ]
  },
  {
   "cell_type": "markdown",
   "source": [
    "The **2dseq** data set has the following parameters:"
   ],
   "metadata": {
    "collapsed": false
   }
  },
  {
   "cell_type": "code",
   "execution_count": 6,
   "outputs": [
    {
     "name": "stdout",
     "text": [
      "(128, 128, 5, 5)\n",
      "['spatial', 'spatial', 'FG_ISA', 'FG_SLICE']\n",
      "[[5, '<FG_ISA>', '<T2 relaxation: y=A+C*exp(-t/T2)>', 0, 2], [5, '<FG_SLICE>', '<>', 2, 2]]\n",
      "['<signal intensity>' '<std dev of signal intensity>'\n",
      " '<T2 relaxation time>' '<std dev of T2 relaxation time>'\n",
      " '<std dev of the fit>']\n",
      "['<>' '<>' '<ms>' '<ms>' '<>']\n"
     ],
     "output_type": "stream"
    }
   ],
   "source": [
    "print(dataset.shape)\n",
    "print(dataset.dim_type)\n",
    "print(dataset.VisuFGOrderDesc)\n",
    "print(dataset.VisuFGElemComment)\n",
    "print(dataset.VisuCoreDataUnits)"
   ],
   "metadata": {
    "collapsed": false,
    "pycharm": {
     "name": "#%%\n",
     "is_executing": false
    }
   }
  },
  {
   "cell_type": "markdown",
   "source": [
    "## Split\n",
    "\n",
    "The **FG_ISA** dimension contains results of T2 quantification. It is convenient these into 5 separate \n",
    "**2dseq** data sets. If we then convert the individual data sets into NIFTI, we can, for instance overlay the `<std \n",
    "dev of T2 relaxation time>` image over the `<T2 relaxation time>` image to see, which areas of the T2 map are not to be \n",
    "trusted.  "
   ],
   "metadata": {
    "collapsed": false
   }
  },
  {
   "cell_type": "code",
   "execution_count": 3,
   "outputs": [],
   "source": [
    "from brukerapi.splitters import FrameGroupSplitter\n",
    "\n",
    "datasets = FrameGroupSplitter('FG_ISA').split(dataset)"
   ],
   "metadata": {
    "collapsed": false,
    "pycharm": {
     "name": "#%%\n",
     "is_executing": false
    }
   }
  },
  {
   "cell_type": "markdown",
   "source": [
    "Each of the splitted data sets now contains data from the individual frame packages:"
   ],
   "metadata": {
    "collapsed": false
   }
  },
  {
   "cell_type": "code",
   "execution_count": 5,
   "outputs": [
    {
     "name": "stdout",
     "text": [
      "ORIGINAL DATASET\n",
      "(128, 128, 5, 5)\n",
      "['spatial', 'spatial', 'FG_ISA', 'FG_SLICE']\n",
      "[[5, '<FG_ISA>', '<T2 relaxation: y=A+C*exp(-t/T2)>', 0, 2], [5, '<FG_SLICE>', '<>', 2, 2]]\n",
      "['<signal intensity>' '<std dev of signal intensity>'\n",
      " '<T2 relaxation time>' '<std dev of T2 relaxation time>'\n",
      " '<std dev of the fit>']\n",
      "['<>' '<>' '<ms>' '<ms>' '<>']\n",
      "FG_ISA_0\n",
      "(128, 128, 5)\n",
      "['spatial', 'spatial', 'FG_SLICE']\n",
      "[5, '<FG_SLICE>', '<>', 2, 2]\n",
      "<signal intensity>\n",
      "<>\n",
      "FG_ISA_1\n",
      "(128, 128, 5)\n",
      "['spatial', 'spatial', 'FG_SLICE']\n",
      "[5, '<FG_SLICE>', '<>', 2, 2]\n",
      "<std dev of signal intensity>\n",
      "<>\n",
      "FG_ISA_2\n",
      "(128, 128, 5)\n",
      "['spatial', 'spatial', 'FG_SLICE']\n",
      "[5, '<FG_SLICE>', '<>', 2, 2]\n",
      "<T2 relaxation time>\n",
      "<ms>\n",
      "FG_ISA_3\n",
      "(128, 128, 5)\n",
      "['spatial', 'spatial', 'FG_SLICE']\n",
      "[5, '<FG_SLICE>', '<>', 2, 2]\n",
      "<std dev of T2 relaxation time>\n",
      "<ms>\n",
      "FG_ISA_4\n",
      "(128, 128, 5)\n",
      "['spatial', 'spatial', 'FG_SLICE']\n",
      "[5, '<FG_SLICE>', '<>', 2, 2]\n",
      "<std dev of the fit>\n",
      "<>\n"
     ],
     "output_type": "stream"
    }
   ],
   "source": [
    "print(\"ORIGINAL DATASET\")\n",
    "print(dataset.shape)\n",
    "print(dataset.dim_type)\n",
    "print(dataset.VisuFGOrderDesc)\n",
    "print(dataset.VisuFGElemComment)\n",
    "print(dataset.VisuCoreDataUnits)\n",
    "print(\"FG_ISA_0\")\n",
    "print(datasets[0].shape)\n",
    "print(datasets[0].dim_type)\n",
    "print(datasets[0].VisuFGOrderDesc)\n",
    "print(datasets[0].VisuFGElemComment)\n",
    "print(datasets[0].VisuCoreDataUnits)\n",
    "print(\"FG_ISA_1\")\n",
    "print(datasets[1].shape)\n",
    "print(datasets[1].dim_type)\n",
    "print(datasets[1].VisuFGOrderDesc)\n",
    "print(datasets[1].VisuFGElemComment)\n",
    "print(datasets[1].VisuCoreDataUnits)\n",
    "print(\"FG_ISA_2\")\n",
    "print(datasets[2].shape)\n",
    "print(datasets[2].dim_type)\n",
    "print(datasets[2].VisuFGOrderDesc)\n",
    "print(datasets[2].VisuFGElemComment)\n",
    "print(datasets[2].VisuCoreDataUnits)\n",
    "print(\"FG_ISA_3\")\n",
    "print(datasets[3].shape)\n",
    "print(datasets[3].dim_type)\n",
    "print(datasets[3].VisuFGOrderDesc)\n",
    "print(datasets[3].VisuFGElemComment)\n",
    "print(datasets[3].VisuCoreDataUnits)\n",
    "print(\"FG_ISA_4\")\n",
    "print(datasets[4].shape)\n",
    "print(datasets[4].dim_type)\n",
    "print(datasets[4].VisuFGOrderDesc)\n",
    "print(datasets[4].VisuFGElemComment)\n",
    "print(datasets[4].VisuCoreDataUnits)\n"
   ],
   "metadata": {
    "collapsed": false,
    "pycharm": {
     "name": "#%%\n",
     "is_executing": false
    }
   }
  }
 ],
 "metadata": {
  "kernelspec": {
   "display_name": "Python 3",
   "language": "python",
   "name": "python3"
  },
  "language_info": {
   "codemirror_mode": {
    "name": "ipython",
    "version": 2
   },
   "file_extension": ".py",
   "mimetype": "text/x-python",
   "name": "python",
   "nbconvert_exporter": "python",
   "pygments_lexer": "ipython2",
   "version": "2.7.6"
  },
  "pycharm": {
   "stem_cell": {
    "cell_type": "raw",
    "source": [],
    "metadata": {
     "collapsed": false
    }
   }
  }
 },
 "nbformat": 4,
 "nbformat_minor": 0
}