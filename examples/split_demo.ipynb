{
 "cells": [
  {
   "cell_type": "markdown",
   "source": [
    "## Split 2dseq data set with multiple packages\n",
    "\n",
    "### Set-up\n",
    "Get a path to a data set containing multiple slice packages and create a 2dseq data set:"
   ],
   "metadata": {
    "collapsed": false,
    "pycharm": {
     "name": "#%% md\n"
    }
   }
  },
  {
   "cell_type": "code",
   "execution_count": 1,
   "metadata": {
    "collapsed": true,
    "pycharm": {
     "is_executing": false
    }
   },
   "outputs": [],
   "source": [
    "from brukerapi.dataset import Dataset\n",
    "import json\n",
    "from pathlib2 import Path\n",
    "\n",
    "fs_prefix = Path('C:/data/')\n",
    "\n",
    "test_data_path = '../brukerapi/tests/test_dataset.json'\n",
    "dataset_id = '2DSEQ_TRIPILOT'\n",
    "\n",
    "# Read meta data of the data set to be tested\n",
    "with open(test_data_path) as json_file:\n",
    "    test_meta = json.load(json_file)['test_read_write']\n",
    "\n",
    "path = fs_prefix / Path(test_meta[dataset_id]['path'])\n",
    "\n",
    "dataset = Dataset(path)\n"
   ]
  },
  {
   "cell_type": "markdown",
   "source": [
    "The 2dseq data set has the following parameters:"
   ],
   "metadata": {
    "collapsed": false
   }
  },
  {
   "cell_type": "code",
   "execution_count": 2,
   "outputs": [
    {
     "name": "stdout",
     "text": [
      "(128, 128, 15)\n",
      "['spatial', 'spatial', 'FG_SLICE']\n"
     ],
     "output_type": "stream"
    }
   ],
   "source": [
    "print(dataset.shape)\n",
    "print(dataset.dim_type)"
   ],
   "metadata": {
    "collapsed": false,
    "pycharm": {
     "name": "#%%\n",
     "is_executing": false
    }
   }
  },
  {
   "cell_type": "markdown",
   "source": [
    "The slice dimension contains 3 slice packages, so we can split it into 3 separate 2dseq data sets using splitter. "
   ],
   "metadata": {
    "collapsed": false
   }
  },
  {
   "cell_type": "code",
   "execution_count": 2,
   "outputs": [
    {
     "name": "stdout",
     "text": [
      "[5, '<FG_SLICE>', '<>', 0, 2]\n",
      "[5, '<FG_SLICE>', '<>', 0, 2]\n",
      "[5, '<FG_SLICE>', '<>', 0, 2]\n"
     ],
     "output_type": "stream"
    }
   ],
   "source": [
    "from brukerapi.splitters import SlicePackageSplitter\n",
    "\n",
    "datasets = SlicePackageSplitter().split(dataset)"
   ],
   "metadata": {
    "collapsed": false,
    "pycharm": {
     "name": "#%%\n",
     "is_executing": false
    }
   }
  },
  {
   "cell_type": "markdown",
   "source": [
    "Each of the splitted data sets now contains data from the individual frame packages:"
   ],
   "metadata": {
    "collapsed": false
   }
  },
  {
   "cell_type": "code",
   "execution_count": 4,
   "outputs": [
    {
     "name": "stdout",
     "text": [
      "(128, 128, 5)\n",
      "(128, 128, 5)\n",
      "(128, 128, 5)\n",
      "\n",
      "[[-20 -20  -4]\n",
      " [-20 -20  -2]\n",
      " [-20 -20   0]\n",
      " [-20 -20   2]\n",
      " [-20 -20   4]]\n",
      "[[  4 -20  20]\n",
      " [  2 -20  20]\n",
      " [  0 -20  20]\n",
      " [ -2 -20  20]\n",
      " [ -4 -20  20]]\n",
      "[[-20   4  20]\n",
      " [-20   2  20]\n",
      " [-20   0  20]\n",
      " [-20  -2  20]\n",
      " [-20  -4  20]]\n",
      "\n",
      "5\n",
      "5\n",
      "5\n"
     ],
     "output_type": "stream"
    }
   ],
   "source": [
    "print(datasets[0].shape)\n",
    "print(datasets[1].shape)\n",
    "print(datasets[2].shape)\n",
    "print()\n",
    "print(datasets[0].get_value('VisuCorePosition'))\n",
    "print(datasets[1].get_value('VisuCorePosition'))\n",
    "print(datasets[2].get_value('VisuCorePosition'))\n",
    "print()\n",
    "print(datasets[0].get_value('VisuCoreFrameCount'))\n",
    "print(datasets[1].get_value('VisuCoreFrameCount'))\n",
    "print(datasets[2].get_value('VisuCoreFrameCount'))\n"
   ],
   "metadata": {
    "collapsed": false,
    "pycharm": {
     "name": "#%%\n",
     "is_executing": false
    }
   }
  },
  {
   "cell_type": "markdown",
   "source": [
    "It is then possible write them to the drive."
   ],
   "metadata": {
    "collapsed": false,
    "pycharm": {
     "name": "#%% md\n"
    }
   }
  },
  {
   "cell_type": "code",
   "execution_count": 3,
   "outputs": [],
   "source": [
    "for dataset_ in datasets:\n",
    "    dataset_.write()\n"
   ],
   "metadata": {
    "collapsed": false,
    "pycharm": {
     "name": "#%%\n",
     "is_executing": false
    }
   }
  }
 ],
 "metadata": {
  "kernelspec": {
   "display_name": "Python 3",
   "language": "python",
   "name": "python3"
  },
  "language_info": {
   "codemirror_mode": {
    "name": "ipython",
    "version": 2
   },
   "file_extension": ".py",
   "mimetype": "text/x-python",
   "name": "python",
   "nbconvert_exporter": "python",
   "pygments_lexer": "ipython2",
   "version": "2.7.6"
  },
  "pycharm": {
   "stem_cell": {
    "cell_type": "raw",
    "source": [],
    "metadata": {
     "collapsed": false
    }
   }
  }
 },
 "nbformat": 4,
 "nbformat_minor": 0
}