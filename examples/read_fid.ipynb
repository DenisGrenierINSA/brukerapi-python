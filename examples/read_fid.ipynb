{
 "cells": [
  {
   "cell_type": "markdown",
   "metadata": {
    "collapsed": true,
    "pycharm": {
     "name": "#%% md\n"
    }
   },
   "source": [
    "## How to read a fid file\n",
    "\n",
    "To read a fid file, just simply pass its path to a constructor of the `Dataset` class.\n",
    "\n",
    "The aim of `Dataset` class is to wrap around all the complexity of data and meta data storage. It takes the **fid** \n",
    "specified by user, the **method** and **acqp** files located in the same folder and provides unified access both to \n",
    "the data array and parameters.  \n",
    "\n",
    "Data for this example is downloaded from:\n",
    "\n",
    "https://gitlab.com/naveau/bruker2nifti_qa\n"
   ]
  },
  {
   "cell_type": "code",
   "execution_count": 7,
   "outputs": [],
   "source": [
    "from brukerapi.dataset import Dataset\n",
    "from pathlib import Path\n",
    "\n",
    "# path to data cloned from\n",
    "data_path = Path('C:/data/bruker2nifti_qa')\n",
    "\n",
    "# both constructors are possible\n",
    "dataset = Dataset(data_path / Path('raw/Cyceron_DWI/20170719_075627_Lego_1_1/2/fid'))\n",
    "# dataset = Dataset(data_path / 'raw/Cyceron_DWI/20170719_075627_Lego_1_1/2')"
   ],
   "metadata": {
    "collapsed": false,
    "pycharm": {
     "name": "#%%\n",
     "is_executing": false
    }
   }
  },
  {
   "cell_type": "markdown",
   "source": [
    "Once dataset is created, it is possible to access the data array."
   ],
   "metadata": {
    "collapsed": false
   }
  },
  {
   "cell_type": "code",
   "execution_count": 8,
   "outputs": [
    {
     "name": "stdout",
     "text": [
      "(128, 80, 5, 9, 4)\n"
     ],
     "output_type": "stream"
    }
   ],
   "source": [
    "data = dataset.data\n",
    "print(data.shape)"
   ],
   "metadata": {
    "collapsed": false,
    "pycharm": {
     "name": "#%%\n",
     "is_executing": false
    }
   }
  },
  {
   "cell_type": "markdown",
   "source": [
    "The `dim_type` property of `Dataset` class can be used in order to make sense out of individual dimensions of the data \n",
    "array."
   ],
   "metadata": {
    "collapsed": false
   }
  },
  {
   "cell_type": "code",
   "execution_count": 9,
   "outputs": [
    {
     "name": "stdout",
     "text": [
      "['kspace_encode_step_0', 'kspace_encode_step_1', 'slice', 'repetition', 'channel']\n"
     ],
     "output_type": "stream"
    }
   ],
   "source": [
    "print(dataset.dim_type)"
   ],
   "metadata": {
    "collapsed": false,
    "pycharm": {
     "name": "#%%\n",
     "is_executing": false
    }
   }
  },
  {
   "cell_type": "markdown",
   "source": [
    "Several most wanted properties of MR measurement, such as the echo time, the flip angle, etc. are implemented as \n",
    "dataset properties."
   ],
   "metadata": {
    "collapsed": false
   }
  },
  {
   "cell_type": "code",
   "execution_count": 10,
   "outputs": [
    {
     "name": "stdout",
     "text": [
      "34\n",
      "2000\n",
      "90\n",
      "208333.333333333\n",
      "300.343848550623\n"
     ],
     "output_type": "stream"
    }
   ],
   "source": [
    "print(dataset.TE)\n",
    "print(dataset.TR)\n",
    "print(dataset.flip_angle)\n",
    "print(dataset.sw)\n",
    "print(dataset.transmitter_freq)"
   ],
   "metadata": {
    "collapsed": false,
    "pycharm": {
     "name": "#%% \n",
     "is_executing": false
    }
   }
  },
  {
   "cell_type": "markdown",
   "source": [
    "Other parameters can be accessed using the dot notation. It is only possible to access parameters stored in jcamp-dx \n",
    "files related to given data set type. A **fid** data set only allows to access parameters from the **method** and \n",
    "**acqp** files."
   ],
   "metadata": {
    "collapsed": false
   }
  },
  {
   "cell_type": "code",
   "execution_count": 11,
   "outputs": [
    {
     "name": "stdout",
     "text": [
      "[-16 -12  -8  -4   0   4   8  12  16  20  24  28  32  36  40  44  48  52\n",
      "  56  60 -15 -11  -7  -3   1   5   9  13  17  21  25  29  33  37  41  45\n",
      "  49  53  57  61 -14 -10  -6  -2   2   6  10  14  18  22  26  30  34  38\n",
      "  42  46  50  54  58  62 -13  -9  -5  -1   3   7  11  15  19  23  27  31\n",
      "  35  39  43  47  51  55  59  63]\n"
     ],
     "output_type": "stream"
    }
   ],
   "source": [
    "# get parameter object\n",
    "print(dataset.PVM_EncSteps1)"
   ],
   "metadata": {
    "collapsed": false,
    "pycharm": {
     "name": "#%%\n",
     "is_executing": false
    }
   }
  },
  {
   "cell_type": "markdown",
   "source": [
    "It is possible to augment `Dataset` by other parameter files, but only files in the same reco, or respective scan \n",
    "folders are allowed. Please bear in mind, that this augmentation might lead to a loss of uniqueness in the parameter \n",
    "space.\n",
    "\n",
    "You can use it for instance to access reconstruction parameters, or the shape of excitation pulse."
   ],
   "metadata": {
    "collapsed": false
   }
  },
  {
   "cell_type": "code",
   "execution_count": 12,
   "outputs": [
    {
     "name": "stdout",
     "text": [
      "[ 0 80]\n",
      "[[  1.036651   0.         1.074475 ...   0.       100.         0.      ]\n",
      " [100.         0.       100.       ...   0.         1.036651   0.      ]]\n"
     ],
     "output_type": "stream"
    }
   ],
   "source": [
    "dataset.add_parameters('reco')\n",
    "print(dataset.RECO_inp_size)\n",
    "dataset.add_parameters('spnam40')\n",
    "print(dataset.XYPOINTS)\n",
    "\n",
    "\n",
    " \n",
    "\n",
    "\n"
   ],
   "metadata": {
    "collapsed": false,
    "pycharm": {
     "name": "#%%\n",
     "is_executing": false
    }
   }
  }
 ],
 "metadata": {
  "kernelspec": {
   "display_name": "Python 3",
   "language": "python",
   "name": "python3"
  },
  "language_info": {
   "codemirror_mode": {
    "name": "ipython",
    "version": 2
   },
   "file_extension": ".py",
   "mimetype": "text/x-python",
   "name": "python",
   "nbconvert_exporter": "python",
   "pygments_lexer": "ipython2",
   "version": "2.7.6"
  },
  "pycharm": {
   "stem_cell": {
    "cell_type": "raw",
    "source": [],
    "metadata": {
     "collapsed": false
    }
   }
  }
 },
 "nbformat": 4,
 "nbformat_minor": 0
}