{
 "cells": [
  {
   "cell_type": "markdown",
   "source": [
    "## Split 2dseq data set with multiple packages\n",
    "\n",
    "This example demostrates the split functionality implemented on 2dseq dataset. It allows to divide a single 2dseq \n",
    "data set into several data sets, each containing one subset of data and metadata. All the resulting data sets, are \n",
    "consistent, they can be written do drive and/or further worked with, for instance converted to NIfTI.\n",
    " \n",
    "Data for this example are downloaded from \n",
    "\n",
    "https://gitlab.com/naveau/bruker2nifti_qa. \n",
    "\n",
    "### Set-up\n",
    "Create a bruker data set from the downloaded data. \n",
    "\n",
    "NOTE: It is necessary to change the path to the destination of your bruker2nifti_qa data."
   ],
   "metadata": {
    "collapsed": false,
    "pycharm": {
     "name": "#%% md\n"
    }
   }
  },
  {
   "cell_type": "code",
   "execution_count": 1,
   "metadata": {
    "collapsed": true,
    "pycharm": {
     "is_executing": false
    }
   },
   "outputs": [],
   "source": [
    "from brukerapi.dataset import Dataset\n",
    "import json\n",
    "from pathlib2 import Path\n",
    "\n",
    "# path to data cloned from bruker2nifti_qa\n",
    "data_path = Path('C:/data/bruker2nifti_qa')\n",
    "\n",
    "dataset = Dataset(data_path / 'raw/Cyceron_DWI/20170719_075627_Lego_1_1/1/pdata/1')\n"
   ]
  },
  {
   "cell_type": "markdown",
   "source": [
    "The 2dseq data set has the following parameters:"
   ],
   "metadata": {
    "collapsed": false
   }
  },
  {
   "cell_type": "code",
   "execution_count": 2,
   "outputs": [
    {
     "name": "stdout",
     "text": [
      "(192, 192, 15)\n",
      "['spatial', 'spatial', 'FG_SLICE']\n"
     ],
     "output_type": "stream"
    }
   ],
   "source": [
    "print(dataset.shape)\n",
    "print(dataset.dim_type)"
   ],
   "metadata": {
    "collapsed": false,
    "pycharm": {
     "name": "#%%\n",
     "is_executing": false
    }
   }
  },
  {
   "cell_type": "markdown",
   "source": [
    "The slice dimension contains 3 slice packages, so we can split it into 3 separate 2dseq data sets using splitter. "
   ],
   "metadata": {
    "collapsed": false
   }
  },
  {
   "cell_type": "code",
   "execution_count": 3,
   "outputs": [],
   "source": [
    "from brukerapi.splitters import SlicePackageSplitter\n",
    "\n",
    "datasets = SlicePackageSplitter().split(dataset)"
   ],
   "metadata": {
    "collapsed": false,
    "pycharm": {
     "name": "#%%\n",
     "is_executing": false
    }
   }
  },
  {
   "cell_type": "markdown",
   "source": [
    "Each of the splitted data sets now contains data from the individual frame packages:"
   ],
   "metadata": {
    "collapsed": false
   }
  },
  {
   "cell_type": "code",
   "execution_count": 4,
   "outputs": [
    {
     "name": "stdout",
     "text": [
      "ORIGINAL DATA SET\n",
      "(192, 192, 15)\n",
      "[[-20 -20  -4]\n",
      " [-20 -20  -2]\n",
      " [-20 -20   0]\n",
      " [-20 -20   2]\n",
      " [-20 -20   4]\n",
      " [  4 -20  20]\n",
      " [  2 -20  20]\n",
      " [  0 -20  20]\n",
      " [ -2 -20  20]\n",
      " [ -4 -20  20]\n",
      " [-20   4  20]\n",
      " [-20   2  20]\n",
      " [-20   0  20]\n",
      " [-20  -2  20]\n",
      " [-20  -4  20]]\n",
      "[[ 1  0  0  0  1  0  0  0  1]\n",
      " [ 1  0  0  0  1  0  0  0  1]\n",
      " [ 1  0  0  0  1  0  0  0  1]\n",
      " [ 1  0  0  0  1  0  0  0  1]\n",
      " [ 1  0  0  0  1  0  0  0  1]\n",
      " [ 0  1  0  0  0 -1 -1  0  0]\n",
      " [ 0  1  0  0  0 -1 -1  0  0]\n",
      " [ 0  1  0  0  0 -1 -1  0  0]\n",
      " [ 0  1  0  0  0 -1 -1  0  0]\n",
      " [ 0  1  0  0  0 -1 -1  0  0]\n",
      " [ 1  0  0  0  0 -1  0  1  0]\n",
      " [ 1  0  0  0  0 -1  0  1  0]\n",
      " [ 1  0  0  0  0 -1  0  1  0]\n",
      " [ 1  0  0  0  0 -1  0  1  0]\n",
      " [ 1  0  0  0  0 -1  0  1  0]]\n",
      "15\n",
      "SLICE PACKAGE 0\n",
      "(192, 192, 5)\n",
      "[[-20 -20  -4]\n",
      " [-20 -20  -2]\n",
      " [-20 -20   0]\n",
      " [-20 -20   2]\n",
      " [-20 -20   4]]\n",
      "[[1 0 0 0 1 0 0 0 1]\n",
      " [1 0 0 0 1 0 0 0 1]\n",
      " [1 0 0 0 1 0 0 0 1]\n",
      " [1 0 0 0 1 0 0 0 1]\n",
      " [1 0 0 0 1 0 0 0 1]]\n",
      "5\n",
      "SLICE PACKAGE 1\n",
      "(192, 192, 5)\n",
      "[[  4 -20  20]\n",
      " [  2 -20  20]\n",
      " [  0 -20  20]\n",
      " [ -2 -20  20]\n",
      " [ -4 -20  20]]\n",
      "[[ 0  1  0  0  0 -1 -1  0  0]\n",
      " [ 0  1  0  0  0 -1 -1  0  0]\n",
      " [ 0  1  0  0  0 -1 -1  0  0]\n",
      " [ 0  1  0  0  0 -1 -1  0  0]\n",
      " [ 0  1  0  0  0 -1 -1  0  0]]\n",
      "5\n",
      "SLICE PACKAGE 2\n",
      "(192, 192, 5)\n",
      "[[-20   4  20]\n",
      " [-20   2  20]\n",
      " [-20   0  20]\n",
      " [-20  -2  20]\n",
      " [-20  -4  20]]\n",
      "[[ 1  0  0  0  0 -1  0  1  0]\n",
      " [ 1  0  0  0  0 -1  0  1  0]\n",
      " [ 1  0  0  0  0 -1  0  1  0]\n",
      " [ 1  0  0  0  0 -1  0  1  0]\n",
      " [ 1  0  0  0  0 -1  0  1  0]]\n",
      "5\n"
     ],
     "output_type": "stream"
    }
   ],
   "source": [
    "print('ORIGINAL DATA SET')\n",
    "print(dataset.shape)\n",
    "print(dataset.VisuCorePosition)\n",
    "print(dataset.VisuCoreOrientation)\n",
    "print(dataset.VisuCoreFrameCount)\n",
    "\n",
    "print('SLICE PACKAGE 0')\n",
    "print(datasets[0].shape)\n",
    "print(datasets[0].VisuCorePosition)\n",
    "print(datasets[0].VisuCoreOrientation)\n",
    "print(datasets[0].VisuCoreFrameCount)\n",
    "\n",
    "print('SLICE PACKAGE 1')\n",
    "print(datasets[1].shape)\n",
    "print(datasets[1].VisuCorePosition)\n",
    "print(datasets[1].VisuCoreOrientation)\n",
    "print(datasets[1].VisuCoreFrameCount)\n",
    "\n",
    "print('SLICE PACKAGE 2')\n",
    "print(datasets[2].shape)\n",
    "print(datasets[2].VisuCorePosition)\n",
    "print(datasets[2].VisuCoreOrientation)\n",
    "print(datasets[2].VisuCoreFrameCount)\n",
    "\n",
    "\n"
   ],
   "metadata": {
    "collapsed": false,
    "pycharm": {
     "name": "#%%\n",
     "is_executing": false
    }
   }
  }
 ],
 "metadata": {
  "kernelspec": {
   "display_name": "Python 3",
   "language": "python",
   "name": "python3"
  },
  "language_info": {
   "codemirror_mode": {
    "name": "ipython",
    "version": 2
   },
   "file_extension": ".py",
   "mimetype": "text/x-python",
   "name": "python",
   "nbconvert_exporter": "python",
   "pygments_lexer": "ipython2",
   "version": "2.7.6"
  },
  "pycharm": {
   "stem_cell": {
    "cell_type": "raw",
    "source": [],
    "metadata": {
     "collapsed": false
    }
   }
  }
 },
 "nbformat": 4,
 "nbformat_minor": 0
}