{
 "cells": [
  {
   "cell_type": "markdown",
   "metadata": {
    "collapsed": true,
    "pycharm": {
     "name": "#%% md\n"
    }
   },
   "source": [
    "# How to read a 2dseq file\n",
    "\n",
    "**Follow this [link](https://bruker-api.readthedocs.io/en/latest/tutorials/how-to-study.html) for instructions on how to download data used in this notebook.**\n",
    "\n",
    "\n",
    "To read a 2dseq file simply pass its path to a constructor of the `Dataset` class. The aim of `Dataset` class is to wrap around all the complexity of data and meta data storage. It takes the **2dseq** file specified by user, the **visu_pars** file located in the same folder and provides unified access both tho the data array and parameters."
   ]
  },
  {
   "cell_type": "code",
   "execution_count": 3,
   "outputs": [],
   "source": [
    "from brukerapi.dataset import Dataset\n",
    "from pathlib import Path\n",
    "import os\n",
    "\n",
    "# Dataset can be constructed passing a path to the file\n",
    "# dataset = Dataset(os.environ['PATH_DATA'] / Path('20200612_094625_lego_phantom_3_1_2/5/pdata/1/2dseq'))\n",
    "\n",
    "# or to a folder which contains it\n",
    "dataset = Dataset(os.environ['PATH_DATA'] / Path('20200612_094625_lego_phantom_3_1_2/5/pdata/1'))"
   ],
   "metadata": {
    "collapsed": false,
    "pycharm": {
     "name": "#%%\n"
    }
   }
  },
  {
   "cell_type": "markdown",
   "source": [
    "## Data\n",
    "Once a dataset is created, it is possible to access its data, stored as a standard numpy [array](https://numpy.org/doc/stable/reference/generated/numpy.array.html)."
   ],
   "metadata": {
    "collapsed": false,
    "pycharm": {
     "name": "#%% md\n"
    }
   }
  },
  {
   "cell_type": "code",
   "execution_count": 6,
   "outputs": [
    {
     "name": "stdout",
     "output_type": "stream",
     "text": [
      "(256, 256, 8, 4)\n",
      "float64\n"
     ]
    }
   ],
   "source": [
    "print(dataset.data.shape)\n",
    "print(dataset.data.dtype)"
   ],
   "metadata": {
    "collapsed": false,
    "pycharm": {
     "name": "#%%\n"
    }
   }
  },
  {
   "cell_type": "markdown",
   "source": [
    "## Parameters\n",
    "Values of dataset parameters stored in JCAMP-DX files can be accessed as follows."
   ],
   "metadata": {
    "collapsed": false,
    "pycharm": {
     "name": "#%% md\n"
    }
   }
  },
  {
   "cell_type": "code",
   "execution_count": 11,
   "outputs": [
    {
     "name": "stdout",
     "output_type": "stream",
     "text": [
      "<Bruker:IgFLASH>\n"
     ]
    }
   ],
   "source": [
    "print(dataset['VisuAcqSequenceName'].value)"
   ],
   "metadata": {
    "collapsed": false,
    "pycharm": {
     "name": "#%%\n"
    }
   }
  },
  {
   "cell_type": "markdown",
   "source": [
    "By default, it is only possible to access parameters stored in JCAMP-DX files related to given dataset type (list of files related to each dataset type can be found in the DEFAULT_STATES variable in the dataset.py file). For instance, a **2dseq** dataset only allows to access parameters from the **visu_pars** file. However, it is possible to construct the dataset, with additional JCAMP-DX files, for instance, it is possible to create a 2dseq dataset while loading parameters from the method file by setting up the `parameter_files` kwarg."
   ],
   "metadata": {
    "collapsed": false,
    "pycharm": {
     "name": "#%% md\n"
    }
   }
  },
  {
   "cell_type": "code",
   "execution_count": 4,
   "outputs": [],
   "source": [
    "dataset = Dataset(os.environ['PATH_DATA'] / Path('20200612_094625_lego_phantom_3_1_2/5/pdata/1'), parameter_files=['method'])"
   ],
   "metadata": {
    "collapsed": false,
    "pycharm": {
     "name": "#%%\n"
    }
   }
  },
  {
   "cell_type": "markdown",
   "source": [
    "Then it is possible to access values of parameters stored in method file.\n"
   ],
   "metadata": {
    "collapsed": false,
    "pycharm": {
     "name": "#%% md\n"
    }
   }
  },
  {
   "cell_type": "code",
   "execution_count": 5,
   "outputs": [
    {
     "name": "stdout",
     "output_type": "stream",
     "text": [
      "2.56\n"
     ]
    }
   ],
   "source": [
    "print(dataset['PVM_AcquisitionTime'].value)\n"
   ],
   "metadata": {
    "collapsed": false,
    "pycharm": {
     "name": "#%%\n"
    }
   }
  },
  {
   "cell_type": "markdown",
   "source": [
    "It is alse possible to add a parameter file to a `Dataset` instance by other parameter files ex post, after it has been created using the `add_parameter_file()` function."
   ],
   "metadata": {
    "collapsed": false,
    "pycharm": {
     "name": "#%% md\n"
    }
   }
  },
  {
   "cell_type": "code",
   "execution_count": 6,
   "outputs": [
    {
     "name": "stdout",
     "output_type": "stream",
     "text": [
      "[256 256]\n"
     ]
    }
   ],
   "source": [
    "dataset.add_parameter_file('reco')\n",
    "print(dataset['RECO_inp_size'].value)"
   ],
   "metadata": {
    "collapsed": false,
    "pycharm": {
     "name": "#%%\n"
    }
   }
  },
  {
   "cell_type": "markdown",
   "source": [
    "## Properties\n",
    "\n",
    "We believe that the metadata interpretation i.e., deriving factual features of datasets from individual parameters in JCAMP-DX files, should be unified among all software tools, thus we provide a way to achieve this.\n",
    "\n",
    "The `dim_type` property of `Dataset` class can be used in order to make sense out of individual dimensions of the data\n",
    "array."
   ],
   "metadata": {
    "collapsed": false
   }
  },
  {
   "cell_type": "code",
   "execution_count": null,
   "outputs": [],
   "source": [
    "print(dataset.dim_type)\n"
   ],
   "metadata": {
    "collapsed": false,
    "pycharm": {
     "name": "#%%\n"
    }
   }
  },
  {
   "cell_type": "markdown",
   "source": [
    "Several most wanted properties of MR measurement, such as the echo time, the flip angle, etc. are implemented as\n",
    "dataset properties."
   ],
   "metadata": {
    "collapsed": false
   }
  },
  {
   "cell_type": "code",
   "execution_count": null,
   "outputs": [],
   "source": [
    "print(dataset.id)\n",
    "print(dataset.affine)\n",
    "print(dataset.TE)\n",
    "print(dataset.TR)\n",
    "print(dataset.imaging_frequency)"
   ],
   "metadata": {
    "collapsed": false,
    "pycharm": {
     "name": "#%%\n"
    }
   }
  }
 ],
 "metadata": {
  "kernelspec": {
   "display_name": "Python 3",
   "language": "python",
   "name": "python3"
  },
  "language_info": {
   "codemirror_mode": {
    "name": "ipython",
    "version": 2
   },
   "file_extension": ".py",
   "mimetype": "text/x-python",
   "name": "python",
   "nbconvert_exporter": "python",
   "pygments_lexer": "ipython2",
   "version": "2.7.6"
  }
 },
 "nbformat": 4,
 "nbformat_minor": 0
}