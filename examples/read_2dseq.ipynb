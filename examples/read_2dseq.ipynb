{
 "cells": [
  {
   "cell_type": "markdown",
   "metadata": {
    "collapsed": true,
    "pycharm": {
     "name": "#%% md\n"
    }
   },
   "source": [
    "## How to read a 2dseq file\n",
    "\n",
    "To read a 2dseq file simply pass its path to a constructor of the `Dataset` class.\n",
    "\n",
    "The aim of `Dataset` class is to wrap around all the complexity of data and meta data storage. It takes **2dseq** \n",
    "specified by user, the **visu_pars** file located in the same folder and provides unified access both tho the data \n",
    "array and parameters.  \n",
    "\n",
    "Data for this example is downloaded from:\n",
    "\n",
    "https://gitlab.com/naveau/bruker2nifti_qa\n"
   ]
  },
  {
   "cell_type": "code",
   "execution_count": 1,
   "outputs": [],
   "source": [
    "from brukerapi.dataset import Dataset\n",
    "from pathlib import Path\n",
    "\n",
    "# path to data cloned from bruker2nifti_qa\n",
    "data_path = Path('C:/data/bruker2nifti_qa')\n",
    "\n",
    "# both constructors are possible\n",
    "dataset = Dataset(data_path / Path('raw/Cyceron_DWI/20170719_075627_Lego_1_1/2/pdata/1/2dseq'))\n",
    "# dataset = Dataset(data_path / 'raw/Cyceron_DWI/20170719_075627_Lego_1_1/2/pdata/1')"
   ],
   "metadata": {
    "collapsed": false,
    "pycharm": {
     "name": "#%%\n",
     "is_executing": false
    }
   }
  },
  {
   "cell_type": "markdown",
   "source": [
    "Once dataset is created, it is possible to access the data array."
   ],
   "metadata": {
    "collapsed": false,
    "pycharm": {
     "name": "#%% md\n"
    }
   }
  },
  {
   "cell_type": "code",
   "execution_count": 2,
   "outputs": [
    {
     "name": "stdout",
     "text": [
      "(128, 128, 5, 9)\n"
     ],
     "output_type": "stream"
    }
   ],
   "source": [
    "data = dataset.data\n",
    "print(data.shape)"
   ],
   "metadata": {
    "collapsed": false,
    "pycharm": {
     "name": "#%%\n",
     "is_executing": false
    }
   }
  },
  {
   "cell_type": "markdown",
   "source": [
    "The `dim_type` property of `Dataset` class can be used in order to make sense out of individual dimensions of the data \n",
    "array."
   ],
   "metadata": {
    "collapsed": false,
    "pycharm": {
     "name": "#%% md\n"
    }
   }
  },
  {
   "cell_type": "code",
   "execution_count": 3,
   "outputs": [
    {
     "name": "stdout",
     "text": [
      "['spatial', 'spatial', 'FG_SLICE', 'FG_DIFFUSION']\n"
     ],
     "output_type": "stream"
    }
   ],
   "source": [
    "print(dataset.dim_type)\n"
   ],
   "metadata": {
    "collapsed": false,
    "pycharm": {
     "name": "#%%\n",
     "is_executing": false
    }
   }
  },
  {
   "cell_type": "markdown",
   "source": [
    "Several most wanted properties of MR measurement, such as the echo time, the flip angle, etc. are implemented as \n",
    "dataset properties."
   ],
   "metadata": {
    "collapsed": false
   }
  },
  {
   "cell_type": "code",
   "execution_count": 4,
   "outputs": [
    {
     "name": "stdout",
     "text": [
      "34.0\n",
      "2000.0\n",
      "90.0\n",
      "1627.60416666667\n",
      "300.343848550623\n"
     ],
     "output_type": "stream"
    }
   ],
   "source": [
    "print(dataset.TE)\n",
    "print(dataset.TR)\n",
    "print(dataset.flip_angle)\n",
    "print(dataset.sw)\n",
    "print(dataset.transmitter_freq)"
   ],
   "metadata": {
    "collapsed": false,
    "pycharm": {
     "name": "#%% \n",
     "is_executing": false
    }
   }
  },
  {
   "cell_type": "markdown",
   "source": [
    "Other parameters can be accessed using the dot notation. It is only possible to access parameters stored in jcamp-dx \n",
    "files related to given data set type. A **2dseq** data set only allows to access parameters from the **visu_pars** file."
   ],
   "metadata": {
    "collapsed": false,
    "pycharm": {
     "name": "#%% md\n"
    }
   }
  },
  {
   "cell_type": "code",
   "execution_count": 6,
   "outputs": [
    {
     "name": "stdout",
     "text": [
      "<Bruker:DtiEpi>\n"
     ],
     "output_type": "stream"
    }
   ],
   "source": [
    "# get parameter object\n",
    "print(dataset.VisuAcqSequenceName)"
   ],
   "metadata": {
    "collapsed": false,
    "pycharm": {
     "name": "#%%\n",
     "is_executing": false
    }
   }
  },
  {
   "cell_type": "markdown",
   "source": [
    "It is possible to augment `Dataset` by other parameter files, but only files in the same reco, or respective scan \n",
    "folders are allowed. Please bear in mind, that this augmentation might lead to a loss of uniqueness in the parameter \n",
    "space."
   ],
   "metadata": {
    "collapsed": false,
    "pycharm": {
     "name": "#%% md\n"
    }
   }
  },
  {
   "cell_type": "code",
   "execution_count": 9,
   "outputs": [
    {
     "name": "stdout",
     "text": [
      "[ 0 80]\n",
      "1.6\n"
     ],
     "output_type": "stream"
    }
   ],
   "source": [
    "dataset.add_parameters('reco')\n",
    "print(dataset.RECO_inp_size)\n",
    "dataset.add_parameters('method')\n",
    "print(dataset.PVM_EncTotalAccel)\n",
    "\n"
   ],
   "metadata": {
    "collapsed": false,
    "pycharm": {
     "name": "#%%\n",
     "is_executing": false
    }
   }
  }
 ],
 "metadata": {
  "kernelspec": {
   "display_name": "Python 3",
   "language": "python",
   "name": "python3"
  },
  "language_info": {
   "codemirror_mode": {
    "name": "ipython",
    "version": 2
   },
   "file_extension": ".py",
   "mimetype": "text/x-python",
   "name": "python",
   "nbconvert_exporter": "python",
   "pygments_lexer": "ipython2",
   "version": "2.7.6"
  },
  "pycharm": {
   "stem_cell": {
    "cell_type": "raw",
    "source": [],
    "metadata": {
     "collapsed": false
    }
   }
  }
 },
 "nbformat": 4,
 "nbformat_minor": 0
}