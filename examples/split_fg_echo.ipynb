{
 "cells": [
  {
   "cell_type": "markdown",
   "metadata": {
    "collapsed": true,
    "pycharm": {
     "name": "#%% md\n"
    }
   },
   "source": [
    "## Split the echo dimension of 2dseq data set into multiple data sets\n",
    "\n",
    "This example demostrates the split functionality implemented on **2dseq** dataset. It allows to divide a single 2dseq \n",
    "data set into several data sets, each containing one subset of data and metadata. All the resulting data sets, are \n",
    "consistent, they can be written do drive and/or further worked with, for instance, converted to NIfTI.\n",
    "\n",
    "Data for this example is downloaded from https://gitlab.com/naveau/bruker2nifti_qa. \n",
    "\n",
    "## Setup\n",
    "\n",
    "Create a bruker data set from the downloaded data. \n",
    "\n",
    "NOTE: It is necessary to change the path to the destination of your bruker2nifti_qa data."
   ]
  },
  {
   "cell_type": "code",
   "execution_count": 5,
   "outputs": [],
   "source": [
    "from brukerapi.dataset import Dataset\n",
    "from pathlib import Path\n",
    "\n",
    "# path to data cloned from\n",
    "data_path = Path('C:/data/bruker2nifti_qa')\n",
    "\n",
    "# create Dataset\n",
    "dataset = Dataset(data_path / 'raw/Cyceron_MultiEcho/20170720_080545_Lego_1_2/2/pdata/1/2dseq')\n"
   ],
   "metadata": {
    "collapsed": false,
    "pycharm": {
     "name": "#%%\n",
     "is_executing": false
    }
   }
  },
  {
   "cell_type": "markdown",
   "source": [
    "The 2dseq data set has the following parameters:"
   ],
   "metadata": {
    "collapsed": false
   }
  },
  {
   "cell_type": "code",
   "execution_count": 6,
   "outputs": [
    {
     "name": "stdout",
     "text": [
      "(128, 128, 2, 9)\n",
      "['spatial', 'spatial', 'FG_ECHO', 'FG_SLICE']\n",
      "[[2, '<FG_ECHO>', '<>', 0, 1], [9, '<FG_SLICE>', '<>', 1, 2]]\n",
      "[12 60]\n"
     ],
     "output_type": "stream"
    }
   ],
   "source": [
    "print(dataset.shape)\n",
    "print(dataset.dim_type)\n",
    "print(dataset.VisuFGOrderDesc)\n",
    "print(dataset.VisuAcqEchoTime)"
   ],
   "metadata": {
    "collapsed": false,
    "pycharm": {
     "name": "#%%\n",
     "is_executing": false
    }
   }
  },
  {
   "cell_type": "markdown",
   "source": [
    "## Split\n",
    "\n",
    "The FG_ECHO dimension contains 2 echeos, so we can split it into 2 separate 2dseq data sets using \n",
    "splitter. \n",
    "\n"
   ],
   "metadata": {
    "collapsed": false
   }
  },
  {
   "cell_type": "code",
   "execution_count": 7,
   "outputs": [],
   "source": [
    "from brukerapi.splitters import FrameGroupSplitter\n",
    "\n",
    "datasets = FrameGroupSplitter('FG_ECHO').split(dataset)\n",
    "\n",
    "# there is the option to save the results as well \n",
    "# datasets = FrameGroupSplitter('FG_ECHO').split(dataset, write=True, path_out='tmp')"
   ],
   "metadata": {
    "collapsed": false,
    "pycharm": {
     "name": "#%%\n",
     "is_executing": false
    }
   }
  },
  {
   "cell_type": "markdown",
   "source": [
    "Each of the splitted data sets now contains data from the individual frame packages:"
   ],
   "metadata": {
    "collapsed": false
   }
  },
  {
   "cell_type": "code",
   "execution_count": 8,
   "outputs": [
    {
     "name": "stdout",
     "text": [
      "ORIGINAL DATA SET\n",
      "(128, 128, 2, 9)\n",
      "[[2, '<FG_ECHO>', '<>', 0, 1], [9, '<FG_SLICE>', '<>', 1, 2]]\n",
      "[12 60]\n",
      "ECHO 0\n",
      "(128, 128, 9)\n",
      "[9, '<FG_SLICE>', '<>', 1, 2]\n",
      "12.0\n",
      "ECHO 1\n",
      "(128, 128, 9)\n",
      "[9, '<FG_SLICE>', '<>', 1, 2]\n",
      "60.0\n"
     ],
     "output_type": "stream"
    }
   ],
   "source": [
    "print('ORIGINAL DATA SET')\n",
    "print(dataset.shape)\n",
    "print(dataset.VisuFGOrderDesc)\n",
    "print(dataset.VisuAcqEchoTime)\n",
    "print('ECHO 0')\n",
    "print(datasets[0].shape)\n",
    "print(datasets[0].VisuFGOrderDesc)\n",
    "print(datasets[0].VisuAcqEchoTime)\n",
    "print('ECHO 1')\n",
    "print(datasets[1].shape)\n",
    "print(datasets[1].VisuFGOrderDesc)\n",
    "print(datasets[1].VisuAcqEchoTime)"
   ],
   "metadata": {
    "collapsed": false,
    "pycharm": {
     "name": "#%%\n",
     "is_executing": false
    }
   }
  }
 ],
 "metadata": {
  "kernelspec": {
   "display_name": "Python 3",
   "language": "python",
   "name": "python3"
  },
  "language_info": {
   "codemirror_mode": {
    "name": "ipython",
    "version": 2
   },
   "file_extension": ".py",
   "mimetype": "text/x-python",
   "name": "python",
   "nbconvert_exporter": "python",
   "pygments_lexer": "ipython2",
   "version": "2.7.6"
  },
  "pycharm": {
   "stem_cell": {
    "cell_type": "raw",
    "source": [],
    "metadata": {
     "collapsed": false
    }
   }
  }
 },
 "nbformat": 4,
 "nbformat_minor": 0
}